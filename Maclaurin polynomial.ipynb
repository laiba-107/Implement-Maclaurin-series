{
 "cells": [
  {
   "cell_type": "code",
   "execution_count": null,
   "id": "2d78396c",
   "metadata": {},
   "outputs": [],
   "source": [
    "# Maclaurin Polynomial "
   ]
  },
  {
   "cell_type": "code",
   "execution_count": null,
   "id": "c64067ef",
   "metadata": {},
   "outputs": [],
   "source": [
    "from sympy import symbols, diff, factorial, sympify, lambdify\n",
    "import numpy as np\n",
    "import matplotlib.pyplot as plt\n",
    "\n",
    "def maclaurin_polynomial_and_graph():\n",
    "    # Prompt user for the function and degree\n",
    "    f_x = input(\"Enter the function f(x) in terms of x: \")\n",
    "    n = int(input(\"Enter the degree n of the Maclaurin polynomial: \"))\n",
    "    \n",
    "    x = symbols('x')  \n",
    "    f = sympify(f_x) \n",
    "    \n",
    "    P_n = 0 \n",
    "    \n",
    "    for i in range(n+1):\n",
    "        f_i = diff(f, x, i).subs(x, 0)\n",
    "        P_n += f_i/factorial(i) * x**i\n",
    "    \n",
    "    print(f\"P_{n}(x) =\", P_n)\n",
    "    \n",
    "    f_lambdified = lambdify(x, f, modules=['numpy'])\n",
    "    P_n_lambdified = lambdify(x, P_n, modules=['numpy'])\n",
    "    \n",
    "    x_vals = np.linspace(-5, 5, 400)\n",
    "    f_vals = f_lambdified(x_vals)\n",
    "    P_n_vals = P_n_lambdified(x_vals)\n",
    "    \n",
    "    # Graph\n",
    "    plt.figure(figsize=(10, 6))\n",
    "    plt.plot(x_vals, f_vals, label=f'f(x) = {f_x}')\n",
    "    plt.plot(x_vals, P_n_vals, label=f'P_{n}(x) Maclaurin Polynomial', linestyle='--')\n",
    "    plt.legend()\n",
    "    plt.xlabel('x')\n",
    "    plt.ylabel('y')\n",
    "    plt.title('Function vs. Maclaurin Polynomial Approximation')\n",
    "    plt.grid(True)\n",
    "    plt.show()\n",
    "\n",
    "maclaurin_polynomial_and_graph()"
   ]
  }
 ],
 "metadata": {
  "kernelspec": {
   "display_name": "Python 3 (ipykernel)",
   "language": "python",
   "name": "python3"
  },
  "language_info": {
   "codemirror_mode": {
    "name": "ipython",
    "version": 3
   },
   "file_extension": ".py",
   "mimetype": "text/x-python",
   "name": "python",
   "nbconvert_exporter": "python",
   "pygments_lexer": "ipython3",
   "version": "3.11.5"
  }
 },
 "nbformat": 4,
 "nbformat_minor": 5
}
